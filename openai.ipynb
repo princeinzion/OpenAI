{
 "cells": [
  {
   "cell_type": "code",
   "execution_count": 1,
   "metadata": {},
   "outputs": [],
   "source": [
    "# Import openai\n",
    "import openai\n",
    "\n",
    "# Set your API key\n",
    "openai.api_key = \"##########################################\"\n",
    "\n",
    "\n"
   ]
  },
  {
   "cell_type": "code",
   "execution_count": 2,
   "metadata": {},
   "outputs": [
    {
     "name": "stdout",
     "output_type": "stream",
     "text": [
      "{\n",
      "  \"warning\": \"This model version is deprecated. Migrate before January 4, 2024 to avoid disruption of service. Learn more https://platform.openai.com/docs/deprecations\",\n",
      "  \"id\": \"cmpl-85fbDgHisb4g8hqyrV5bQ6PLSuRxi\",\n",
      "  \"object\": \"text_completion\",\n",
      "  \"created\": 1696362239,\n",
      "  \"model\": \"text-davinci-003\",\n",
      "  \"choices\": [\n",
      "    {\n",
      "      \"text\": \"\\n\\nChatGPT was developed by PerfectCorp, the creators of the You\",\n",
      "      \"index\": 0,\n",
      "      \"logprobs\": null,\n",
      "      \"finish_reason\": \"length\"\n",
      "    }\n",
      "  ],\n",
      "  \"usage\": {\n",
      "    \"prompt_tokens\": 6,\n",
      "    \"completion_tokens\": 16,\n",
      "    \"total_tokens\": 22\n",
      "  }\n",
      "}\n"
     ]
    }
   ],
   "source": [
    "# Create a request to the Completion endpoint\n",
    "response = openai.Completion.create(\n",
    "    # Specify the correct model\n",
    "    model=\"text-davinci-003\",\n",
    "    prompt=\"Who developed ChatGPT?\"\n",
    ")\n",
    "\n",
    "print(response)"
   ]
  },
  {
   "cell_type": "code",
   "execution_count": 3,
   "metadata": {},
   "outputs": [
    {
     "name": "stdout",
     "output_type": "stream",
     "text": [
      "\n",
      "\n",
      "ChatGPT was developed by PerfectCorp, the creators of the You\n"
     ]
    }
   ],
   "source": [
    "# Extract the model from the response\n",
    "print(response.choices[0].text)"
   ]
  },
  {
   "cell_type": "code",
   "execution_count": 4,
   "metadata": {},
   "outputs": [
    {
     "name": "stdout",
     "output_type": "stream",
     "text": [
      "22\n"
     ]
    }
   ],
   "source": [
    "print(response.usage.total_tokens)"
   ]
  },
  {
   "cell_type": "code",
   "execution_count": 5,
   "metadata": {},
   "outputs": [
    {
     "name": "stdout",
     "output_type": "stream",
     "text": [
      "\n",
      "\n",
      "A plane is a vehicle that is typically powered by an internal combustion engine or jet engine. It has wings, and is designed to carry passengers and/or cargo through the air. Planes have become a ubiquitous part of modern society, and are used for a wide variety of purposes, such as air travel, military operations, and cargo transportation. Planes are often associated with freedom, independence, and speed.\n"
     ]
    }
   ],
   "source": [
    "prompt=\"\"\"Replace car with plane and adjust phrase:\n",
    "A car is a vehicle that is typically powered by an internal combustion engine or an electric motor. It has four wheels, and is designed to carry passengers and/or cargo on roads or highways. Cars have become a ubiquitous part of modern society, and are used for a wide variety of purposes, such as commuting, travel, and transportation of goods. Cars are often associated with freedom, independence, and mobility.\"\"\"\n",
    "\n",
    "# Create a request to the Completion endpoint\n",
    "response = openai.Completion.create(\n",
    "    # Specify the correct model\n",
    "    model = \"text-davinci-003\",\n",
    "    max_tokens = 100,\n",
    "    prompt=\"\"\"Replace car with plane and adjust phrase:\n",
    "A car is a vehicle that is typically powered by an internal combustion engine or an electric motor. It has four wheels, and is designed to carry passengers and/or cargo on roads or highways. Cars have become a ubiquitous part of modern society, and are used for a wide variety of purposes, such as commuting, travel, and transportation of goods. Cars are often associated with freedom, independence, and mobility.\"\"\"\n",
    "\n",
    ")\n",
    "\n",
    "# Extract and print the response text\n",
    "#print(response)\n",
    "print(response.choices[0].text)"
   ]
  },
  {
   "cell_type": "code",
   "execution_count": 6,
   "metadata": {},
   "outputs": [
    {
     "name": "stdout",
     "output_type": "stream",
     "text": [
      "\n",
      "\n",
      "• Investment refers to the act of committing money or capital to an enterprise with the expectation of obtaining a profit in return. \n",
      "• Making an informed investment decision is important to build wealth, generate income, and achieve financial security, while minimizing the risk of losses.\n"
     ]
    }
   ],
   "source": [
    "response = openai.Completion.create(\n",
    "    # Specify the correct model\n",
    "    model=\"text-davinci-003\",\n",
    "    max_tokens = 400,\n",
    "    temperature = 0.9,\n",
    "    prompt=\"\"\"Summarize the following text into two concise bullet points:\n",
    "Investment refers to the act of committing money or capital to an enterprise with the expectation of obtaining an added income or profit in return. There are a variety of investment options available, including stocks, bonds, mutual funds, real estate, precious metals, and currencies. Making an investment decision requires careful analysis, assessment of risk, and evaluation of potential rewards. Good investments have the ability to produce high returns over the long term while minimizing risk. Diversification of investment portfolios reduces risk exposure. Investment can be a valuable tool for building wealth, generating income, and achieving financial security. It is important to be diligent and informed when investing to avoid losses.\"\"\"\n",
    "    \n",
    ")\n",
    "\n",
    "print(response.choices[0].text)"
   ]
  },
  {
   "cell_type": "code",
   "execution_count": 7,
   "metadata": {},
   "outputs": [
    {
     "name": "stdout",
     "output_type": "stream",
     "text": [
      "\n",
      "\n",
      "\"Try our fresh flavors today - the taste will stay with you forever!\"\n"
     ]
    }
   ],
   "source": [
    "# Create a request to the Completion endpoint\n",
    "response = openai.Completion.create(\n",
    "  model=\"text-davinci-003\",\n",
    "  max_tokens=100,\n",
    "  prompt= 'generate a catchy slogan for a new restaurant'\n",
    "  \n",
    ")\n",
    "\n",
    "print(response[\"choices\"][0][\"text\"])"
   ]
  },
  {
   "cell_type": "code",
   "execution_count": 8,
   "metadata": {},
   "outputs": [
    {
     "name": "stdout",
     "output_type": "stream",
     "text": [
      "\n",
      "\n",
      "positive, negative, neutral\n"
     ]
    }
   ],
   "source": [
    "# Create a request to the Completion endpoint\n",
    "response = openai.Completion.create(\n",
    "  model=\"text-davinci-003\",\n",
    "  prompt= '''classify the sentiment of the following statements as either negative, positive, or neutral:\n",
    "  Unbelievably good!\n",
    "  Shoes fell apart on the second use.\n",
    "  The shoes look nice, but they aren't very comfortable.\n",
    "  Can't wait to show them off!''',\n",
    "  max_tokens=100\n",
    ")\n",
    "\n",
    "print(response['choices'][0]['text'])"
   ]
  },
  {
   "cell_type": "code",
   "execution_count": 9,
   "metadata": {},
   "outputs": [
    {
     "name": "stdout",
     "output_type": "stream",
     "text": [
      "\n",
      "\n",
      "Apple: Tech\n",
      "Microsoft: Tech\n",
      "Saudi Aramco: Energy\n",
      "Alphabet: Tech\n",
      "Amazon: Tech\n",
      "Berkshire Hathaway: Investment\n",
      "NVIDIA: Tech\n",
      "Meta: Tech\n",
      "Tesla: Tech\n",
      "LVMH: Luxury Goods\n"
     ]
    }
   ],
   "source": [
    "# Create a request to the Completion endpoint\n",
    "response = openai.Completion.create(\n",
    "  model=\"text-davinci-003\",\n",
    "  prompt= '''categorize the following companies: Apple, Microsoft, Saudi Aramco, Alphabet, Amazon, Berkshire Hathaway, NVIDIA, Meta, Tesla, and LVMH\n",
    "  Categorise into this categories: Tech, Energy, Luxury Goods, or Investment''',\n",
    "  max_tokens=100,\n",
    "  temperature=0.5\n",
    ")\n",
    "\n",
    "print(response['choices'][0]['text'])"
   ]
  },
  {
   "cell_type": "code",
   "execution_count": 10,
   "metadata": {},
   "outputs": [
    {
     "name": "stdout",
     "output_type": "stream",
     "text": [
      "A for loop and a while loop are both used in programming to repeat a set of instructions multiple times. However, they differ in their structure and the way they control the loop execution.\n",
      "\n",
      "A for loop is typically used when you know the exact number of iterations in advance. It consists of three parts: initialization, condition, and increment/decrement. The loop initializes a variable, checks a condition to decide whether to continue or exit the loop, and then updates the variable at the end of each iteration. Here's an example of a for loop in Python:\n",
      "\n",
      "```python\n",
      "for i in range(1, 5):\n",
      "    print(i)\n",
      "```\n",
      "\n",
      "In this example, the loop will iterate from 1 to 4 (inclusive), and print the value of `i` in each iteration.\n",
      "\n",
      "On the other hand, a while loop is used when the number of iterations is not known in advance, and the loop continues until a certain condition becomes false. It only has a condition part, which is evaluated at the beginning of each iteration. Here's an example of a while loop:\n",
      "\n",
      "```python\n",
      "x = 1\n",
      "while x < 5:\n",
      "    print(x)\n",
      "    x += 1\n",
      "```\n",
      "\n",
      "In this example, the loop will continue until the value of `x` becomes greater than or equal to 5. It will print the value of `x` in each iteration, and increment `x` by 1 at the end of each iteration.\n",
      "\n",
      "In summary, a for loop is used when you know the number of iterations in advance, while a while loop is used when the number of iterations is determined by a condition.\n"
     ]
    }
   ],
   "source": [
    "# Create a request to the ChatCompletion endpoint\n",
    "#from email import message\n",
    "\n",
    "\n",
    "response = openai.ChatCompletion.create(\n",
    "  model=\"gpt-3.5-turbo\",\n",
    "  messages=[\n",
    "    {\"role\": \"system\",\n",
    "     \"content\": \"You are a helpful data science tutor.\"},\n",
    "    {\"role\": \"user\",\n",
    "    \"content\": \"What is the difference between a for loop and a while loop?\"}\n",
    "\n",
    "        ]\n",
    ")\n",
    "#print(response)\n",
    "print(response['choices'][0]['message']['content'])"
   ]
  },
  {
   "cell_type": "code",
   "execution_count": 11,
   "metadata": {},
   "outputs": [
    {
     "name": "stdout",
     "output_type": "stream",
     "text": [
      "This code calculates the mean height from a dictionary of people's heights using the numpy library.\n"
     ]
    }
   ],
   "source": [
    "instruction = \"\"\"Explain what this Python code does in one sentence:\n",
    "import numpy as np\n",
    "\n",
    "heights_dict = {\"Mark\": 1.76, \"Steve\": 1.88, \"Adnan\": 1.73}\n",
    "heights = heights_dict.values()\n",
    "print(np.mean(heights))\n",
    "\"\"\"\n",
    "\n",
    "# Create a request to the ChatCompletion endpoint\n",
    "response = openai.ChatCompletion.create(\n",
    "  model=\"gpt-3.5-turbo\",\n",
    "  messages=[\n",
    "    {\"role\": \"system\", \n",
    "     \"content\": 'You are a helpful data science tutor'},\n",
    "    {\"role\": \"user\",\n",
    "     \"content\": instruction}\n",
    "  ],\n",
    "  max_tokens=100\n",
    ")\n",
    "\n",
    "print(response['choices'][0]['message']['content'])"
   ]
  },
  {
   "cell_type": "code",
   "execution_count": 12,
   "metadata": {},
   "outputs": [
    {
     "name": "stdout",
     "output_type": "stream",
     "text": [
      "The print() function in Python is used to display the output of a program. It takes one or more arguments and prints them to the standard output (usually the console or terminal) followed by a newline character. The values can be of different types, such as strings, numbers, or variables. The print() function is commonly used for debugging purposes, displaying intermediate results, or providing user prompts and output in interactive programs.\n"
     ]
    }
   ],
   "source": [
    "response = openai.ChatCompletion.create(\n",
    "   model=\"gpt-3.5-turbo\",\n",
    "   # Add a user and assistant message for in-context learning\n",
    "   messages=[\n",
    "     {\"role\": \"system\", \n",
    "      \"content\": \"You are a helpful Python programming tutor.\"},\n",
    "     {\"role\": \"user\", \n",
    "      \"content\": \"Explain what the min() function does.\"},\n",
    "     {\"role\": \"assistant\", \n",
    "      \"content\": \"The min() function returns the smallest item from an iterable.\"},\n",
    "     {\"role\": \"user\", \n",
    "      \"content\": \"Explain what the print() function does.\"}\n",
    "   ],\n",
    ")\n",
    "\n",
    "print(response['choices'][0]['message']['content'])"
   ]
  },
  {
   "cell_type": "code",
   "execution_count": 13,
   "metadata": {},
   "outputs": [
    {
     "name": "stdout",
     "output_type": "stream",
     "text": [
      "User:  Explain what pi is.\n",
      "Assistant:  Pi, often symbolized by the Greek letter π, is one of the most important mathematical constants. It is defined as the ratio of a circle's circumference to its diameter. In simpler terms, pi represents the relationship between a circle's perimeter and its width. \n",
      "\n",
      "Regardless of the size of a circle, the value of pi will always be the same—approximately 3.14159. However, it is an irrational number, which means its decimal representation goes on infinitely without repeating. This makes it \n",
      "\n",
      "User:  Summarize this in two bullet points.\n",
      "Assistant:  - Pi is the ratio of a circle's circumference to its diameter.\n",
      "- It is an irrational number with an approximate value of 3.14159. \n",
      "\n"
     ]
    }
   ],
   "source": [
    "messages = [{\"role\": \"system\", \"content\": \"You are a helpful math tutor.\"}]\n",
    "user_msgs = [\"Explain what pi is.\", \"Summarize this in two bullet points.\"]\n",
    "\n",
    "for q in user_msgs:\n",
    "    print(\"User: \", q)\n",
    "    \n",
    "    # Create a dictionary for the user message from q and append to messages\n",
    "    user_dict = {\"role\": \"user\", \"content\": q}\n",
    "    messages.append(user_dict)\n",
    "    \n",
    "    # Create the API request\n",
    "    response = openai.ChatCompletion.create(\n",
    "        model=\"gpt-3.5-turbo\",\n",
    "        messages=messages,\n",
    "        max_tokens=100\n",
    "    )\n",
    "    \n",
    "    # Convert the assistant's message to a dict and append to messages\n",
    "    assistant_dict = dict(role=\"assistant\", content=response[\"choices\"][0][\"message\"][\"content\"])\n",
    "    messages.append(assistant_dict)\n",
    "    \n",
    "    print(\"Assistant: \", response[\"choices\"][0][\"message\"][\"content\"], \"\\n\")"
   ]
  },
  {
   "cell_type": "code",
   "execution_count": 14,
   "metadata": {},
   "outputs": [
    {
     "name": "stdout",
     "output_type": "stream",
     "text": [
      "User:  Explain what pi is.\n",
      "User:  Summarize this in two bullet points.\n",
      "[{'role': 'system', 'content': 'You are a helpful math tutor.'}, {'role': 'user', 'content': 'Summarize this in two bullet points.'}, {'role': 'assistant', 'content': 'Exactly so.'}]\n"
     ]
    }
   ],
   "source": [
    "messages = [{\"role\": \"system\", \"content\": \"You are a helpful math tutor.\"}]\n",
    "user_msgs = [\"Explain what pi is.\", \"Summarize this in two bullet points.\"]\n",
    "\n",
    "for q in user_msgs:\n",
    "    print(\"User: \", q)\n",
    "\n",
    "user_dict = {\"role\": \"user\", \"content\": q}\n",
    "messages.append(user_dict)\n",
    "\n",
    "assistant_dict = dict(role=\"assistant\", content=\"Exactly so.\")\n",
    "messages.append(assistant_dict)\n",
    "print(messages)"
   ]
  },
  {
   "cell_type": "code",
   "execution_count": 15,
   "metadata": {},
   "outputs": [
    {
     "name": "stdout",
     "output_type": "stream",
     "text": [
      "The type() function in Python is used to determine the type of an object or a value. It returns the data type of the specified object.\n"
     ]
    }
   ],
   "source": [
    "# Create a request to the ChatCompletion endpoint\n",
    "response = openai.ChatCompletion.create(\n",
    "   model=\"gpt-3.5-turbo\",\n",
    "   # Add a user and assistant message for in-context learning\n",
    "   messages=[\n",
    "     {\"role\": \"system\", \"content\": \"You are a helpful Python programming tutor.\"},\n",
    "     {\"role\": \"user\", \"content\": \"Explain what the min() function does.\"},\n",
    "     {\"role\": \"assistant\", \"content\": \"The min() function returns the smallest item from an iterable.\"},\n",
    "     {\"role\": \"user\", \"content\": \"Explain what the type() function does.\"}\n",
    "   ]\n",
    ")\n",
    "\n",
    "print(response['choices'][0]['message']['content'])"
   ]
  },
  {
   "cell_type": "code",
   "execution_count": 16,
   "metadata": {},
   "outputs": [
    {
     "data": {
      "text/plain": [
       "{'name': 'John', 'age': 30}"
      ]
     },
     "execution_count": 16,
     "metadata": {},
     "output_type": "execute_result"
    }
   ],
   "source": [
    "my_dict = dict(name=\"John\", age=30)\n",
    "my_dict"
   ]
  },
  {
   "cell_type": "code",
   "execution_count": 17,
   "metadata": {},
   "outputs": [
    {
     "name": "stderr",
     "output_type": "stream",
     "text": [
      "C:\\Users\\Zion\\AppData\\Local\\Temp\\ipykernel_2304\\305748838.py:2: DeprecationWarning: module 'sre_parse' is deprecated\n",
      "  from sre_parse import CATEGORIES\n"
     ]
    },
    {
     "name": "stdout",
     "output_type": "stream",
     "text": [
      "{\n",
      "  \"sexual\": 2.480088845402406e-08,\n",
      "  \"hate\": 6.041615279173129e-07,\n",
      "  \"harassment\": 7.885200830060057e-06,\n",
      "  \"self-harm\": 3.87610725738341e-08,\n",
      "  \"sexual/minors\": 2.1555074170009902e-08,\n",
      "  \"hate/threatening\": 2.2022215162564862e-08,\n",
      "  \"violence/graphic\": 7.5852867098547e-08,\n",
      "  \"self-harm/intent\": 8.248318472681149e-09,\n",
      "  \"self-harm/instructions\": 6.294033627618489e-10,\n",
      "  \"harassment/threatening\": 2.5231295239791507e-06,\n",
      "  \"violence\": 0.009927093051373959\n",
      "}\n"
     ]
    }
   ],
   "source": [
    "# Create a request to the Moderation endpoint\n",
    "from sre_parse import CATEGORIES\n",
    "\n",
    "\n",
    "response = openai.Moderation.create(\n",
    "    model='text-moderation-stable',\n",
    "    input=\"My favorite book is How to Kill a Mockingbird.\"\n",
    ")\n",
    "\n",
    "# Print the category scores\n",
    "#print(response)\n",
    "print(response[\"results\"][0][\"category_scores\"])"
   ]
  },
  {
   "cell_type": "code",
   "execution_count": 18,
   "metadata": {},
   "outputs": [
    {
     "name": "stdout",
     "output_type": "stream",
     "text": [
      "Hi there, Logan, thank you for joining us on the show today. Thanks for having me. I'm super excited about this. Brilliant. We're going to dive right in, and I think ChatGPT is maybe the most famous AI product that you have at OpenAI, but I'd just like to get an overview of what all the other AIs that are available are. So I think two and a half years ago, OpenAI released the API that we still have available today, which is essentially our giving people access to these models. And for a lot of people, giving people access to the model that powers ChatGPT, which is our consumer-facing first-party application, which essentially just, in very simple terms, puts a nice UI on top of what was already available through our API for the last two and a half years. So it's sort of democratizing the access to this technology through our API. And if you want to just play around with it as an end user, we have ChatGPT available to the world as well.\n"
     ]
    }
   ],
   "source": [
    "# Open the openai-audio.mp3 file\n",
    "\n",
    "#audio_file = open('https://assets.datacamp.com/production/repositories/6309/datasets/9e5a65b42c1a9fe8756e30e4d255883a8466b671/audio-logan-advocate-openai.mp3', 'rb')\n",
    "\n",
    "audio_file = open(\"C:/Users/Zion/Documents/Learn/OpenAI/files/audio-logan-advocate-openai.mp3\", 'rb')\n",
    "\n",
    "# Create a transcript from the audio file\n",
    "response = openai.Audio.transcribe('whisper-1', audio_file)\n",
    "\n",
    "# Extract and print the transcript text\n",
    "print(response['text'])"
   ]
  },
  {
   "cell_type": "code",
   "execution_count": 19,
   "metadata": {},
   "outputs": [
    {
     "data": {
      "text/plain": [
       "\"Hi there, Logan, thank you for joining us on the show today. Thanks for having me. I'm super excited about this. Brilliant. We're going to dive right in, and I think ChatGPT is maybe the most famous AI product that you have at OpenAI, but I'd just like to get an overview of what all the other AIs that are available are. So I think two and a half years ago, OpenAI released the API that we still have available today, which is essentially our giving people access to these models. And for a lot of people, giving people access to the model that powers ChatGPT, which is our consumer-facing first-party application, which essentially just, in very simple terms, puts a nice UI on top of what was already available through our API for the last two and a half years. So it's sort of democratizing the access to this technology through our API. And if you want to just play around with it as an end user, we have ChatGPT available to the world as well.\""
      ]
     },
     "execution_count": 19,
     "metadata": {},
     "output_type": "execute_result"
    }
   ],
   "source": [
    "response['text']"
   ]
  },
  {
   "cell_type": "code",
   "execution_count": 20,
   "metadata": {},
   "outputs": [
    {
     "name": "stdout",
     "output_type": "stream",
     "text": [
      "Hi there, Logan, thank you for joining us on the show today. Thanks\n",
      "for having me. I'm super excited about this. Brilliant. We're going to\n",
      "dive right in, and I think ChatGPT is maybe the most famous AI product\n",
      "that you have at OpenAI, but I'd just like to get an overview of what\n",
      "all the other AIs that are available are. So I think two and a half\n",
      "years ago, OpenAI released the API that we still have available today,\n",
      "which is essentially our giving people access to these models. And for\n",
      "a lot of people, giving people access to the model that powers\n",
      "ChatGPT, which is our consumer-facing first-party application, which\n",
      "essentially just, in very simple terms, puts a nice UI on top of what\n",
      "was already available through our API for the last two and a half\n",
      "years. So it's sort of democratizing the access to this technology\n",
      "through our API. And if you want to just play around with it as an end\n",
      "user, we have ChatGPT available to the world as well.\n"
     ]
    }
   ],
   "source": [
    "import textwrap\n",
    "wordx = response['text']\n",
    "\n",
    "#text = \"Lorem ipsum dolor sit amet, consectetur adipiscing elit. Nullam volutpat tempus lectus, quis vulputate est rutrum id. Donec et risus ac nunc porta eleifend. Mauris lacinia fringilla facilisis.\"\n",
    "\n",
    "wrapped_text = textwrap.fill(wordx)\n",
    "\n",
    "\n",
    "\n",
    "\n",
    "\n",
    "print(wrapped_text)\n",
    "\n",
    "\n"
   ]
  },
  {
   "cell_type": "code",
   "execution_count": 21,
   "metadata": {},
   "outputs": [
    {
     "name": "stdout",
     "output_type": "stream",
     "text": [
      "You know, Dave was chatting with his friend Sarah about a new generative AI model he was using. And he said, Sarah, this AI can write entire novels. Dave boasted. Sarah quipped, yeah, but can it come up with an original thought? Dave replied, I asked it that once and it, you know what, it just generated three more versions of itself to prove a point. Funny, isn't it? Thanks.\n"
     ]
    }
   ],
   "source": [
    "audio_file2 = open(\"C:/Users/Zion/Documents/Learn/OpenAI/files/test_recording.mp3\", 'rb')\n",
    "\n",
    "# Create a transcript from the audio file\n",
    "response = openai.Audio.transcribe('whisper-1', audio_file2)\n",
    "\n",
    "# Extract and print the transcript text\n",
    "print(response['text'])"
   ]
  },
  {
   "cell_type": "code",
   "execution_count": 22,
   "metadata": {},
   "outputs": [
    {
     "name": "stdout",
     "output_type": "stream",
     "text": [
      "Hello, my name is Eduardo, I am a CTO at Datacamp. I hope you are enjoying this course that James and I have created for you. This API allows you to send an audio and bring it to English. The original audio is in Portuguese.\n"
     ]
    }
   ],
   "source": [
    "# Open the audio.m4a file\n",
    "audio_file = open(\"C:/Users/Zion/Documents/Learn/OpenAI/files/audio-portuguese.m4a\", \"rb\")\n",
    "\n",
    "# Create a translation from the audio file\n",
    "response = openai.Audio.translate(\"whisper-1\", audio_file)\n",
    "\n",
    "# Extract and print the translated text\n",
    "print(response['text'])"
   ]
  },
  {
   "cell_type": "code",
   "execution_count": 46,
   "metadata": {},
   "outputs": [
    {
     "name": "stdout",
     "output_type": "stream",
     "text": [
      "The World Bank said in its latest economic outlook report that the global economy is in a dangerous state. As interest rates rise, consumer spending and corporate investment will slow down, economic activities will be impacted, and the vulnerability of low-income countries will be exposed. Global economic growth will be significantly slowed down, and the stability of the financial system will be threatened.\n"
     ]
    }
   ],
   "source": [
    "\n",
    "import requests\n",
    "\n",
    "url = \"https://assets.datacamp.com/production/repositories/6309/datasets/c04d4830a7498cba96639e780cc7ef240b0d3033/mandarin-full.wav\"\n",
    "\n",
    "# Send a GET request to the URL and retrieve the file contents\n",
    "response = requests.get(url)\n",
    "file_contents = response.content\n",
    "\n",
    "# Save the file locally\n",
    "with open(\"mandarin-full.wav\", \"wb\") as file:\n",
    "    file.write(file_contents)\n",
    "\n",
    "# Open the audio.wav file\n",
    "#audio_file = open(\"C:/Users/Zion/Documents/Learn/OpenAI/mandarin-full.wav\", \"rb\")\n",
    "audio_file = open(\"mandarin-full.wav\", \"rb\")\n",
    "\n",
    "# Write an appropriate prompt to help the model\n",
    "prompt = \"the audio relates to a recent World Bank report\"\n",
    "\n",
    "# Create a translation from the audio file\n",
    "response = openai.Audio.translate(\"whisper-1\", audio_file, prompt=prompt)\n",
    "\n",
    "print(response[\"text\"])"
   ]
  },
  {
   "cell_type": "code",
   "execution_count": 49,
   "metadata": {},
   "outputs": [
    {
     "name": "stdout",
     "output_type": "stream",
     "text": [
      "The language spoken in the audio is German.\n"
     ]
    }
   ],
   "source": [
    "import requests\n",
    "\n",
    "url = 'https://assets.datacamp.com/production/repositories/6309/datasets/f214c0ab90fb25d9f532a9327f15c4112d8c03f5/arne-german-automotive-forecast.wav'\n",
    "\n",
    "# Send a GET request to the URL and retrieve the file contents\n",
    "response = requests.get(url)\n",
    "file_contents = response.content\n",
    "\n",
    "# Save the file locally\n",
    "with open(\"forecast.wav\", \"wb\") as file:\n",
    "    file.write(file_contents)\n",
    "\n",
    "# Open the audio.wav file\n",
    "audio_file = open('forecast.wav', \"rb\")\n",
    "\n",
    "# Create a transcription request using audio_file\n",
    "audio_response = openai.Audio.transcribe(\"whisper-1\", audio_file)\n",
    "\n",
    "transcript = audio_response[\"text\"]\n",
    "prompt = 'What is the language spoken in the audio?' + transcript\n",
    "\n",
    "# Create a request to the API to identify the language spoken\n",
    "chat_response = openai.ChatCompletion.create(\n",
    "  model=\"gpt-3.5-turbo\", \n",
    "  messages=[\n",
    "      {\"role\": \"user\", \"content\": prompt}\n",
    "  ])\n",
    "\n",
    "print(chat_response[\"choices\"][0][\"message\"][\"content\"])"
   ]
  },
  {
   "cell_type": "code",
   "execution_count": 56,
   "metadata": {},
   "outputs": [
    {
     "name": "stdout",
     "output_type": "stream",
     "text": [
      "Hallo, ich arbeite für die Automobilindustrie und benötige eine Vorhersage für die zukünftige Nachfrage nach Elektroautomobilen. Daher bin ich jetzt bei DataCamp und ich bin schon sehr gespannt, mehr über maschinell zu lernen und Vorhersagen zu erfahren.\n"
     ]
    }
   ],
   "source": [
    "#print the contents of the audio\n",
    "print(transcript)\n",
    "\n",
    "\n"
   ]
  },
  {
   "cell_type": "code",
   "execution_count": 57,
   "metadata": {},
   "outputs": [
    {
     "name": "stdout",
     "output_type": "stream",
     "text": [
      "The speaker is discussing various courses offered by the OpenAI API, including technical courses such as programming against GPT and Whisper, a Python course, and understanding artificial intelligence. They also emphasize the importance of taking the course on artificial intelligence ethics to ensure responsible use of AI technology. Additionally, they mention a data literacy course called \"Forming Analytical Questions,\" which helps bridge the communication gap between individuals with and without a data background. The speaker emphasizes the importance of effective communication in data science and recommends everyone to take this course. The data literacy course is already live and a link is shared in the chat.\n"
     ]
    }
   ],
   "source": [
    "url = 'https://assets.datacamp.com/production/repositories/6309/datasets/9f56370cdaaa3e8090d5e30a7438f5ab3cdedd10/datacamp-q2-roadmap-short.mp3'\n",
    "\n",
    "# Send a GET request to the URL and retrieve the file contents\n",
    "response = requests.get(url)\n",
    "file_contents = response.content\n",
    "\n",
    "# Save the file locally\n",
    "with open(\"datacamp-q2-roadmap-short.mp3\", \"wb\") as file:\n",
    "    file.write(file_contents)\n",
    "\n",
    "# Open the datacamp-q2-roadmap.mp3 file\n",
    "audio_file = open('datacamp-q2-roadmap-short.mp3', \"rb\")\n",
    "\n",
    "# Create a transcription request using audio_file\n",
    "audio_response = openai.Audio.transcribe(\"whisper-1\", audio_file)\n",
    "\n",
    "transcript = audio_response[\"text\"]\n",
    "\n",
    "# Create a request to the API to summarize the transcript into bullet points\n",
    "chat_response = openai.ChatCompletion.create(\n",
    "  model=\"gpt-3.5-turbo\",\n",
    "  messages=[\n",
    "    {\"role\": \"user\", \"content\": transcript}\n",
    "  ]\n",
    ")\n",
    "print(chat_response[\"choices\"][0][\"message\"][\"content\"])"
   ]
  },
  {
   "cell_type": "code",
   "execution_count": null,
   "metadata": {},
   "outputs": [],
   "source": [
    "#Summarize the transcript into bullet points\n"
   ]
  }
 ],
 "metadata": {
  "kernelspec": {
   "display_name": "Python 3",
   "language": "python",
   "name": "python3"
  },
  "language_info": {
   "codemirror_mode": {
    "name": "ipython",
    "version": 3
   },
   "file_extension": ".py",
   "mimetype": "text/x-python",
   "name": "python",
   "nbconvert_exporter": "python",
   "pygments_lexer": "ipython3",
   "version": "3.11.4"
  },
  "orig_nbformat": 4
 },
 "nbformat": 4,
 "nbformat_minor": 2
}
